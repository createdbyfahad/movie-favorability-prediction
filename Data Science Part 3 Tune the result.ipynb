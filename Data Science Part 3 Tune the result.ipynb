{
 "cells": [
  {
   "cell_type": "markdown",
   "metadata": {},
   "source": [
    "<h1>\n",
    "<center>\n",
    "Data Science Part 3: Tune The Forest\n",
    "</center>\n",
    "</h1>\n",
    "<div class=h1_cell>\n",
    "By Fahad Alarefi. The purpose of this three-part project is to use machine learning into making use of a publicaly available table called IMDB 5000 titles.\n",
    "The main idea is to come up with a function which can predictate, with high accuracy, whether a provided movie data will have 8 stars or more by the user community. The technique of decision trees will be used.\n",
    "The dataset is accessed from here:\n",
    "https://data.world/data-society/imdb-5000-movie-dataset\n",
    "\n",
    "</div>\n",
    "<br />\n",
    "<div class=h1_cell>\n",
    "In this part, we will continue from the last part (Part2: model the data), and tune the result to get better performance.<br />\n",
    "Tuning the result means to use the some of trained models and try to get a better performance in accuracy and/or efficency. <br/>\n",
    "We will use Random Forest model, and see if we are able to get a better model. <br/>\n",
    "</div>"
   ]
  },
  {
   "cell_type": "markdown",
   "metadata": {},
   "source": [
    "<h1>\n",
    "Read the dataset from the last module\n",
    "</h1>\n",
    "<div class=h1_cell>\n",
    "First step,\n",
    "get the dataset from the last module we worked on.\n",
    "</div>"
   ]
  },
  {
   "cell_type": "code",
   "execution_count": null,
   "metadata": {},
   "outputs": [],
   "source": [
    "import pandas as pd\n",
    "import os\n",
    "import dill\n",
    "import pickle\n",
    "\n",
    "if os.path.isfile('./part2_movie_table.csv'):\n",
    "    file_name = 'part2_movie_table.csv'\n",
    "else:\n",
    "    file_name = 'https://github.com/createdbyfahad/datascience/files/2593722/part2_movie_table.txt'\n",
    "\n",
    "movie_table = pd.read_csv(file_name)\n",
    "\n",
    "with open ('rf', 'rb') as fp:\n",
    "    forest = dill.load(fp)\n",
    "\n",
    "target_column = \"is_good2\""
   ]
  },
  {
   "cell_type": "markdown",
   "metadata": {},
   "source": [
    "Also, in order not to rewrite the previous functions in last module, I have created a python file\n",
    "<br/>that has all needed funcitons.\n",
    "<br />So, here we will import it."
   ]
  },
  {
   "cell_type": "code",
   "execution_count": null,
   "metadata": {},
   "outputs": [],
   "source": [
    "from functions2 import *\n",
    "\n",
    "%who function"
   ]
  },
  {
   "cell_type": "code",
   "execution_count": null,
   "metadata": {},
   "outputs": [],
   "source": [
    "movie_table.head()"
   ]
  },
  {
   "cell_type": "code",
   "execution_count": null,
   "metadata": {},
   "outputs": [],
   "source": [
    "test_oob(movie_table, forest, target_column)"
   ]
  },
  {
   "cell_type": "markdown",
   "metadata": {},
   "source": [
    "<h1>\n",
    "Inspecting the testing the forest\n",
    "</h1>\n",
    "<div class=h1_cell>\n",
    "Our goal of this section of part 3 is to produce better results by exploring the trees behaviour. <br />\n",
    "First, we will create a matrix with all rows of the table and each tree's vote. <br />\n",
    "So, if I have a forest of 5 trees and data set of 100 rows then the matrix will be of 100 rows and 5 columns. \n",
    "</div>"
   ]
  },
  {
   "cell_type": "code",
   "execution_count": null,
   "metadata": {},
   "outputs": [],
   "source": [
    "# return a the trees prediction for a row in the paramater\n",
    "def trees_row_prediciton(row, forest):\n",
    "    result = []\n",
    "    for tree in forest:\n",
    "        prediction = tree_predictor(row, tree)\n",
    "        result.append(prediction)\n",
    "        \n",
    "    return result\n",
    "def votes_per_row(table, forest):\n",
    "    matrices = [[] for i in range(len(table))]\n",
    "    \n",
    "    for i in range(len(table)):\n",
    "        matrices[i] = trees_row_prediciton(table.iloc[i], forest);\n",
    "    \n",
    "    return matrices\n"
   ]
  },
  {
   "cell_type": "code",
   "execution_count": null,
   "metadata": {},
   "outputs": [],
   "source": [
    "all_votes = votes_per_row(movie_table, forest)\n",
    "all_votes"
   ]
  },
  {
   "cell_type": "markdown",
   "metadata": {},
   "source": [
    "Next, we need to find all rows that have the same prediction for all trees."
   ]
  },
  {
   "cell_type": "code",
   "execution_count": null,
   "metadata": {},
   "outputs": [],
   "source": [
    "def unanimous_rows(all_votes):    \n",
    "    tree_amount = len(all_votes[0])\n",
    "    rows = []\n",
    "    for row in range(len(all_votes)):\n",
    "        init_val = all_votes[row][0];\n",
    "        stop = 0\n",
    "        for col in range(tree_amount):\n",
    "            if all_votes[row][col] != init_val:\n",
    "                stop = 1\n",
    "                break\n",
    "        if not stop:\n",
    "            rows.append(row)\n",
    "    \n",
    "    return rows"
   ]
  },
  {
   "cell_type": "code",
   "execution_count": null,
   "metadata": {},
   "outputs": [],
   "source": [
    "unan_rows = unanimous_rows(all_votes)\n",
    "len(unan_rows)"
   ]
  },
  {
   "cell_type": "markdown",
   "metadata": {},
   "source": [
    "Looks like we have around 300 rows that have the same prediction for all trees.<br />\n",
    "So, let's try to delete those rows and see if the results will be better or not."
   ]
  },
  {
   "cell_type": "code",
   "execution_count": null,
   "metadata": {},
   "outputs": [],
   "source": [
    "movie_table2 = movie_table.drop(movie_table.index[unan_rows])"
   ]
  },
  {
   "cell_type": "code",
   "execution_count": null,
   "metadata": {},
   "outputs": [],
   "source": [
    "#movie_table = movie_table.reset_index()\n",
    "def delete_from_list(forest, ulist):\n",
    "    for tree in forest:\n",
    "        tree['oob'] = [x for x in tree['oob'] if x not in ulist]\n",
    "    return forest"
   ]
  },
  {
   "cell_type": "code",
   "execution_count": null,
   "metadata": {},
   "outputs": [],
   "source": [
    "forest2 = delete_from_list(forest, unan_rows)"
   ]
  },
  {
   "cell_type": "code",
   "execution_count": null,
   "metadata": {},
   "outputs": [],
   "source": [
    "test_oob(movie_table2, forest2, target_column)"
   ]
  },
  {
   "cell_type": "markdown",
   "metadata": {},
   "source": [
    "Looks like that didn't produce better resutls, so we will try a similar procedure.<br />\n",
    "We will look for trees that alway vote one vote (never change their vote)"
   ]
  },
  {
   "cell_type": "code",
   "execution_count": null,
   "metadata": {},
   "outputs": [],
   "source": [
    "def never_change(all_votes):\n",
    "    tree_amount = len(all_votes[0])\n",
    "    trees = []\n",
    "    for col in range(tree_amount):\n",
    "        init_val = all_votes[0][col];\n",
    "        stop = 0\n",
    "        for row in range(len(all_votes)):\n",
    "            if all_votes[row][col] != init_val:\n",
    "                stop = 1\n",
    "                break\n",
    "        if not stop:\n",
    "            trees.append(col)\n",
    "    \n",
    "    return trees\n"
   ]
  },
  {
   "cell_type": "code",
   "execution_count": null,
   "metadata": {},
   "outputs": [],
   "source": [
    "nc = never_change(all_votes)\n",
    "len(nc)"
   ]
  },
  {
   "cell_type": "markdown",
   "metadata": {},
   "source": [
    "There are non such trees, so we will move on with additional tests."
   ]
  },
  {
   "cell_type": "markdown",
   "metadata": {},
   "source": [
    "<h1>\n",
    "Inspecting the testing the forest\n",
    "</h1>\n",
    "<div class=h1_cell>\n",
    "In this section, we will try two ways: delete most incorrect tree and delete the most correlated tree\n",
    "</div>"
   ]
  },
  {
   "cell_type": "code",
   "execution_count": null,
   "metadata": {},
   "outputs": [],
   "source": [
    "def tree_accuracy(table, tree, target):\n",
    "    # shouold return the accuracy of that tree on this table\n",
    "    table['tree'] = table.apply(lambda row: tree_predictor(row, tree), axis=1)\n",
    "    table['tree_type'] = table.apply(lambda row: predictor_case(row, pred='tree', target=target), axis=1)\n",
    "    tree_types = table['tree_type'].value_counts()\n",
    "    return accuracy(tree_types)\n",
    "\n",
    "def delete_most_incorrect_tree(table, forest, target):\n",
    "    # go over all trees in the forest \n",
    "    perf = []\n",
    "    for tree in forest:\n",
    "        perf.append(tree_accuracy(table, tree, target))\n",
    "    #delete the lowest accuracy\n",
    "    lowest = perf[0]\n",
    "    lowest_id = 0\n",
    "    for accur in range(len(perf)):\n",
    "        if perf[accur] < lowest:\n",
    "            lowest = perf[accur]\n",
    "            lowest_id = accur\n",
    "    del forest[lowest_id]\n",
    "    return forest\n",
    "        "
   ]
  },
  {
   "cell_type": "code",
   "execution_count": null,
   "metadata": {},
   "outputs": [],
   "source": [
    "new_forest = delete_most_incorrect_tree(movie_table, forest, target_column)"
   ]
  },
  {
   "cell_type": "code",
   "execution_count": null,
   "metadata": {},
   "outputs": [],
   "source": [
    "len(new_forest)"
   ]
  },
  {
   "cell_type": "markdown",
   "metadata": {},
   "source": [
    "Now, retest the forest to see if it have got better or not."
   ]
  },
  {
   "cell_type": "code",
   "execution_count": null,
   "metadata": {},
   "outputs": [],
   "source": [
    "test_oob(movie_table, new_forest, target_column)"
   ]
  },
  {
   "cell_type": "markdown",
   "metadata": {},
   "source": [
    "That didn't enhance our forest model, so we will try another test which is to find trees that are highly correlated (always vote together)\n"
   ]
  },
  {
   "cell_type": "code",
   "execution_count": null,
   "metadata": {},
   "outputs": [],
   "source": [
    "def find_correlated_trees(table, tree_votes):\n",
    "    # should retururn two most correlated trees\n",
    "    votes = pd.DataFrame(tree_votes)\n",
    "    corr = votes.corr()\n",
    "    corr_val = corr[0][1]\n",
    "    corr_ids = (0,1)\n",
    "    for tree1 in range(len(corr)):\n",
    "        for tree2 in range(len(corr)):\n",
    "            if tree1 != tree2 and corr[tree1][tree2] > corr_val:\n",
    "                corr_ids = (tree1, tree2)\n",
    "                corr_val = corr[tree1][tree2]\n",
    "                \n",
    "    return corr_ids"
   ]
  },
  {
   "cell_type": "code",
   "execution_count": null,
   "metadata": {},
   "outputs": [],
   "source": [
    "correlated_trees = find_correlated_trees(movie_table, all_votes);\n",
    "print(correlated_trees)"
   ]
  },
  {
   "cell_type": "markdown",
   "metadata": {},
   "source": [
    "Looks like the most correlated trees are number 10 and 11 <br />\n",
    "So we will delete the one that has lower accuracy"
   ]
  },
  {
   "cell_type": "code",
   "execution_count": null,
   "metadata": {},
   "outputs": [],
   "source": [
    "forest3 = forest\n",
    "\n",
    "tree1_accuracy = tree_accuracy(movie_table, forest[correlated_trees[0]], target_column)\n",
    "tree2_accuracy = tree_accuracy(movie_table, forest[correlated_trees[1]], target_column)\n",
    "if tree1_accuracy < tree2_accuracy:\n",
    "    # delete tree 1\n",
    "    del forest3[correlated_trees[0]]\n",
    "else:\n",
    "    del forest3[correlated_trees[1]]"
   ]
  },
  {
   "cell_type": "markdown",
   "metadata": {},
   "source": [
    "Revaluate the forest by oob test"
   ]
  },
  {
   "cell_type": "code",
   "execution_count": null,
   "metadata": {},
   "outputs": [],
   "source": [
    "test_oob(movie_table, forest3, target_column)"
   ]
  },
  {
   "cell_type": "markdown",
   "metadata": {},
   "source": [
    "Slightly better results than our last test, but still, not better than the initial result"
   ]
  },
  {
   "cell_type": "markdown",
   "metadata": {},
   "source": [
    "<h1>\n",
    "Final remarks\n",
    "</h1>\n",
    "<div class=h1_cell>\n",
    "As my main goal is to enhance the forest model from last part, I wasn't able to come up with better results.<br />\n",
    "As seen above, I tried four techniques to enhance the model: remove rows that have similar votes by all trees, delete trees that always predict the same result, <br />delete most incorrect tree, and delete most correlated tree. All four methods have resulted in better accuracy.\n",
    "</div>"
   ]
  },
  {
   "cell_type": "markdown",
   "metadata": {},
   "source": [
    "<h1>\n",
    "Automated function\n",
    "</h1>\n",
    "<div class=h1_cell>\n",
    "I have created a function that automates all what we did in this part. The function recieves a information about a dataset, and does all 4 tests we just did.< br />\n",
    "Also, the function will try three sizes of forests and use the most accurate/efficent one.<br />\n",
    "From last part, I found that a depth-max of 4 might be the best value, so it will be used as default.\n",
    "</div> "
   ]
  },
  {
   "cell_type": "code",
   "execution_count": null,
   "metadata": {},
   "outputs": [],
   "source": [
    "def model_training(table, column_choices, target, hypers):\n",
    "    # this function will try to automate all what we did earlier.\n",
    "    # first create check hyperparameter\n",
    "    tree_n = 13 if 'total-trees' not in hypers else hypers['total-trees']\n",
    "    k = hypers['max-depth'] if 'max-depth' in hypers else min(4, len(column_choices))\n",
    "    \n",
    "    forest_trials = [5, 11, 13]\n",
    "    \n",
    "    if 'total-trees' not in hypers:\n",
    "        print(\"no trees number was given, so will try \"+ str(len(forest_trials)) +\" forest sizes\")\n",
    "        forest_perf = -float(\"inf\")\n",
    "        # try three forests and get the best one\n",
    "        for n in forest_trials:\n",
    "            # second build the forest and oob test it\n",
    "            print(\"building a forest with \" + str(n) + \" trees and max-depth of \"+ str(k))\n",
    "            hypers = {\"total-trees\": n, 'max-depth': k}\n",
    "            (table, test_forest) = execute_rf((n+1), table, column_choices, target, hypers);\n",
    "            print(\"tree built. checking results using oob testing\")\n",
    "            test_results = test_oob(table, test_forest, target)\n",
    "            print(\"accuracy: \"+ str(test_results[0]) + \" f1: \"+ str(test_results[1]) + \" informdness: \" + str(test_results[2]))\n",
    "            if sum(test_results) >= forest_perf:\n",
    "                forest = test_forest\n",
    "                results = test_results\n",
    "                forest_perf = sum(results)\n",
    "        print(\"forest with \" + str(len(forest)) + \" has the best results, so will continue with it.\")\n",
    "    all_votes = votes_per_row(table, forest)\n",
    "    \n",
    "    #start doing our tests\n",
    "    print(\"doing test 1 out of 4: delete rows with similar tree predictions\")\n",
    "    unan_rows = unanimous_rows(all_votes)\n",
    "    if len(unan_rows) > 0:\n",
    "        test_table = table.drop(movie_table.index[unan_rows]) \n",
    "        test_forest = delete_from_list(forest, unan_rows)\n",
    "        test_results = test_oob(test_table, test_forest, target)\n",
    "        print(\"test 1 accuracy: \"+ str(test_results[0]) + \" f1: \"+ str(test_results[1]) + \" informdness: \" + str(test_results[2]))\n",
    "        # check if results are better\n",
    "        if sum(test_results)/len(test_results) >= sum(results)/len(results):\n",
    "            print(\"test 1 resulted better or similar outcome so will continue with it.\")\n",
    "            table = test_table.copy()\n",
    "            forest = test_forest\n",
    "            results = test_results\n",
    "            all_votes = votes_per_row(table, forest)\n",
    "        else:\n",
    "            print(\"test 1 resulted in worse outcome so will stick with pre test data.\")\n",
    "    else:\n",
    "        print(\"test 1 results affects nothing\")\n",
    "    \n",
    "    \n",
    "    #test 2\n",
    "    print(\"doing test 2 out of 4: delete trees with similar predictions for all rows\")\n",
    "    nc = never_change(all_votes)\n",
    "    if len(nc) > 0:\n",
    "        test_table = table.copy() \n",
    "        test_forest = forest\n",
    "        test_results = test_oob(test_table, test_forest, target)\n",
    "        print(\"test 2 accuracy: \"+ str(test_results[0]) + \" f1: \"+ str(test_results[1]) + \" informdness: \" + str(test_results[2]))\n",
    "        # check if results are better\n",
    "        if sum(test_results)/len(test_results) >= sum(results)/len(results):\n",
    "            print(\"test 2 resulted better or similar outcome so will continue with it.\")\n",
    "            table = test_table.copy()\n",
    "            forest = test_forest\n",
    "            results = test_results\n",
    "            all_votes = votes_per_row(table, forest)\n",
    "        else:\n",
    "            print(\"test 2 resulted in worse outcome so will stick with pre test data.\")\n",
    "    else:\n",
    "        print(\"test 2 results affects nothing\")\n",
    "        \n",
    "        \n",
    "    #test 3\n",
    "    print(\"doing test 3 out of 4: delete the most incorrect tree\")\n",
    "    test_table = table.copy() \n",
    "    test_forest = delete_most_incorrect_tree(movie_table, forest, target_column)\n",
    "    test_results = test_oob(test_table, test_forest, target)\n",
    "    print(\"test 3 accuracy: \"+ str(test_results[0]) + \" f1: \"+ str(test_results[1]) + \" informdness: \" + str(test_results[2]))\n",
    "    # check if results are better\n",
    "    if sum(test_results)/len(test_results) >= sum(results)/len(results):\n",
    "        print(\"test 3 resulted better or similar outcome so will continue with it.\")\n",
    "        table = test_table.copy()\n",
    "        forest = test_forest\n",
    "        results = test_results\n",
    "        all_votes = votes_per_row(table, forest)\n",
    "    else:\n",
    "        print(\"test 3 resulted in worse outcome so will stick with pre test data.\")\n",
    "    \n",
    "    #test 4\n",
    "    print(\"doing test 4 out of 4: remove the most correlated tree\")\n",
    "    test_table = table.copy()\n",
    "    correlated_trees = find_correlated_trees(table, all_votes);\n",
    "    if(len(correlated_trees) == 2):\n",
    "        test_forest = forest\n",
    "#         print(len(forest))\n",
    "#         print(correlated_trees)\n",
    "        tree1_accuracy = tree_accuracy(movie_table, forest[correlated_trees[0]], target_column)\n",
    "        tree2_accuracy = tree_accuracy(movie_table, forest[correlated_trees[1]], target_column)\n",
    "        \n",
    "        if tree1_accuracy < tree2_accuracy:\n",
    "            del test_forest[correlated_trees[0]]\n",
    "        else:\n",
    "            del test_forest[correlated_trees[1]]\n",
    "        test_results = test_oob(test_table, test_forest, target)\n",
    "        print(\"test 4 accuracy: \"+ str(test_results[0]) + \" f1: \"+ str(test_results[1]) + \" informdness: \" + str(test_results[2]))\n",
    "        # check if results are better\n",
    "        if sum(test_results)/len(test_results) >= sum(results)/len(results):\n",
    "            print(\"test 4 resulted better or similar outcome so will continue with it.\")\n",
    "            table = test_table.copy()\n",
    "            forest = test_forest\n",
    "            results = test_results\n",
    "        else:\n",
    "            print(\"test 4 resulted in worse outcome so will stick with pre test data.\")\n",
    "    else:\n",
    "        print(\"test 4 results affects nothing\")\n",
    "    \n",
    "    \n",
    "    return (table, forest)\n",
    "    "
   ]
  },
  {
   "cell_type": "code",
   "execution_count": null,
   "metadata": {},
   "outputs": [],
   "source": [
    "(table, trained_model) = model_training(movie_table, splitter_columns, target_column, {})"
   ]
  },
  {
   "cell_type": "markdown",
   "metadata": {},
   "source": [
    "Then the trained model can be used in predicting a movie success (with low accuracy) or for working on it and increase it's effiency"
   ]
  },
  {
   "cell_type": "code",
   "execution_count": null,
   "metadata": {},
   "outputs": [],
   "source": []
  }
 ],
 "metadata": {
  "kernelspec": {
   "display_name": "Python 3",
   "language": "python",
   "name": "python3"
  },
  "language_info": {
   "codemirror_mode": {
    "name": "ipython",
    "version": 3
   },
   "file_extension": ".py",
   "mimetype": "text/x-python",
   "name": "python",
   "nbconvert_exporter": "python",
   "pygments_lexer": "ipython3",
   "version": "3.7.0"
  }
 },
 "nbformat": 4,
 "nbformat_minor": 2
}
